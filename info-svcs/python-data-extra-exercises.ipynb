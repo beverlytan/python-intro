{
 "cells": [
  {
   "cell_type": "markdown",
   "metadata": {},
   "source": [
    "# Extra Notebook\n",
    "Containing exercises to test your new data science skills\n",
    "\n",
    "## Exercise 1\n",
    "Create a 8x8 matrix with a checkboard pattern of 1s and 0s"
   ]
  },
  {
   "cell_type": "code",
   "execution_count": null,
   "metadata": {},
   "outputs": [],
   "source": []
  },
  {
   "cell_type": "markdown",
   "metadata": {},
   "source": [
    "## Exercise 2\n",
    "Obtain the determinant of a [Cauchy matrix](https://en.wikipedia.org/wiki/Cauchy_matrix) from two arrays.\n",
    "\n",
    "Remember the cauchy formula:\n",
    "$$ C_{{ij}}={\\frac {1}{x_{i}-y_{j}}} $$"
   ]
  },
  {
   "cell_type": "code",
   "execution_count": null,
   "metadata": {},
   "outputs": [],
   "source": []
  },
  {
   "cell_type": "markdown",
   "metadata": {},
   "source": [
    "## Exercise 3\n",
    "Remember the canvas exercises? Can you use slicing with a skip of 5 to get the image below?\n",
    "\n",
    "Remember how you can add a step to slicing in the Python built-in data types? Well, you can do that in NumyPy as well!\n",
    "\n",
    "\n",
    "![white rectangle with dots](http://softdev.ppls.ed.ac.uk/static/images/dots.png)"
   ]
  },
  {
   "cell_type": "markdown",
   "metadata": {},
   "source": [
    "##  Exercise 4\n",
    "Consider a random vector with shape (100, 2) representing coordinates, find the maximum euclidian distance between 2 points.\n",
    "\n",
    "Recall the Euclidean distance formula: the distance from $(x_1, y_1)$ to $(x_2, y_2)$ is\n",
    "\n",
    "$$ \\sqrt{(x_2 - x_1)^2 + (y_2 - y_1)^2}$$."
   ]
  },
  {
   "cell_type": "code",
   "execution_count": null,
   "metadata": {},
   "outputs": [],
   "source": []
  },
  {
   "cell_type": "markdown",
   "metadata": {},
   "source": [
    "## Execise 5\n",
    "Generate a generic 2D Gaussian-like array, centered around 0,0\n",
    "\n",
    "You might want to recall the gaussian formula:\n",
    "\n",
    "$$ P(x) = \\frac{1}{\\sigma \\sqrt{2\\pi}} e^{\\frac{-(x - \\mu)^2}{2\\sigma^2}} $$\n",
    "\n",
    "You can use $$ \\mu = 0  \\quad  \\sigma = 1 $$\n",
    "\n",
    "*Hint: You can find the [np.meshgrid](https://docs.scipy.org/doc/numpy-1.14.0/reference/generated/numpy.meshgrid.html) function helpful here.*"
   ]
  },
  {
   "cell_type": "markdown",
   "metadata": {},
   "source": [
    "## Exercise 6\n",
    "The file `data/soft_survey.csv` conta"
   ]
  },
  {
   "cell_type": "code",
   "execution_count": null,
   "metadata": {},
   "outputs": [],
   "source": []
  }
 ],
 "metadata": {
  "kernelspec": {
   "display_name": "Python 3",
   "language": "python",
   "name": "python3"
  },
  "language_info": {
   "codemirror_mode": {
    "name": "ipython",
    "version": 3
   },
   "file_extension": ".py",
   "mimetype": "text/x-python",
   "name": "python",
   "nbconvert_exporter": "python",
   "pygments_lexer": "ipython3",
   "version": "3.6.6"
  }
 },
 "nbformat": 4,
 "nbformat_minor": 2
}
